{
 "cells": [
  {
   "cell_type": "code",
   "execution_count": null,
   "id": "31ca6561-9a25-425e-92d4-b91d8137413d",
   "metadata": {},
   "outputs": [],
   "source": []
  },
  {
   "cell_type": "markdown",
   "id": "3445ff1a-4334-4ea8-b281-087c796ed6f1",
   "metadata": {},
   "source": [
    "# feature Selection"
   ]
  },
  {
   "cell_type": "markdown",
   "id": "4f9c481a-9532-49ff-b459-eb2169d90f42",
   "metadata": {},
   "source": [
    "### 递归特征消除"
   ]
  },
  {
   "cell_type": "code",
   "execution_count": null,
   "id": "2972dfc9-8e85-40cd-a6bf-42d208ca297f",
   "metadata": {},
   "outputs": [],
   "source": [
    "from sklearn.feature_selection import RFE\n",
    "from sklearn.linear_model import LinearRegression\n",
    "\n",
    "def rfe_feature_selection(df, target, n_features_to_select=40):\n",
    "    \"\"\"\n",
    "    使用递归特征消除（RFE）对数据进行降维。\n",
    "    \n",
    "    参数:\n",
    "    df (DataFrame): 包含特征的 DataFrame。\n",
    "    target (Series): 目标变量（y）。\n",
    "    n_features_to_select (int): 要选择的特征数量。\n",
    "\n",
    "    返回:\n",
    "    selected_features_df (DataFrame): 包含被选择特征的 DataFrame。\n",
    "    \"\"\"\n",
    "    # 初始化线性回归模型\n",
    "    model = LinearRegression()\n",
    "\n",
    "    # 初始化RFE\n",
    "    rfe = RFE(estimator=model, n_features_to_select=n_features_to_select)\n",
    "\n",
    "    # 拟合RFE模型\n",
    "    rfe.fit(df, target)\n",
    "\n",
    "    # 筛选出被选择的特征\n",
    "    selected_features = df.columns[rfe.support_]\n",
    "\n",
    "    # 返回包含被选择特征的DataFrame\n",
    "    selected_features_df = df[selected_features]\n",
    "\n",
    "    return selected_features_df\n",
    "selected_features_df = rfe_feature_selection(df_short_x_scaled, df_short_y_scaled, n_features_to_select=40)\n",
    "# list(selected_features_df)\n"
   ]
  },
  {
   "cell_type": "markdown",
   "id": "250eca07-4461-4a32-bbb2-ad6848318030",
   "metadata": {},
   "source": [
    "### 互信息法"
   ]
  },
  {
   "cell_type": "code",
   "execution_count": null,
   "id": "749afa12-129c-45de-bf24-f6a583930ff1",
   "metadata": {},
   "outputs": [],
   "source": [
    "from sklearn.feature_selection import mutual_info_regression\n",
    "import pandas as pd\n",
    "\n",
    "def mutual_info_feature_selection(df, target, n_features_to_select=40):\n",
    "    \"\"\"\n",
    "    使用互信息法选择最重要的特征（针对回归任务）。\n",
    "    \n",
    "    参数:\n",
    "    df (DataFrame): 包含特征的 DataFrame。\n",
    "    target (Series): 目标变量（y）。\n",
    "    n_features_to_select (int): 要选择的特征数量。\n",
    "\n",
    "    返回:\n",
    "    selected_features_df (DataFrame): 包含被选择特征的 DataFrame。\n",
    "    \"\"\"\n",
    "    # 计算互信息分数\n",
    "    mi_scores = mutual_info_regression(df, target)\n",
    "\n",
    "    # 将分数转换为Series并排序\n",
    "    mi_scores = pd.Series(mi_scores, index=df.columns)\n",
    "    mi_scores_sorted = mi_scores.sort_values(ascending=False)\n",
    "\n",
    "    # 选择前n_features_to_select个特征\n",
    "    selected_features = mi_scores_sorted.head(n_features_to_select).index\n",
    "\n",
    "    # 返回包含被选择特征的DataFrame\n",
    "    selected_features_df = df[selected_features]\n",
    "\n",
    "    return selected_features_df\n",
    "selected_features_df = mutual_info_feature_selection(df_short_x_scaled, df_short_y_scaled, n_features_to_select=40)\n",
    "# list(selected_features_df)\n"
   ]
  },
  {
   "cell_type": "markdown",
   "id": "135f65f3-e93e-4785-993b-2c64e93260fd",
   "metadata": {},
   "source": [
    "### 根据相关系数剔除"
   ]
  },
  {
   "cell_type": "code",
   "execution_count": null,
   "id": "6dd863ba-8a85-4b08-934d-ade8500ba91d",
   "metadata": {},
   "outputs": [],
   "source": [
    "import pandas as pd\n",
    "\n",
    "def analyze_high_correlation(df, threshold=0.9):\n",
    "    \"\"\"\n",
    "    分析DataFrame中每个变量与其他变量的相关系数，并找出相关系数高于阈值的变量数量。\n",
    "\n",
    "    参数:\n",
    "    df : pandas.DataFrame\n",
    "        要分析的DataFrame。\n",
    "    threshold : float\n",
    "        相关系数的阈值。\n",
    "\n",
    "    返回:\n",
    "    pandas.DataFrame\n",
    "        包含每个变量和其相关系数高于阈值的变量数量的DataFrame。\n",
    "    \"\"\"\n",
    "    # 计算相关系数矩阵并取绝对值\n",
    "    corr_matrix = df.corr().abs()\n",
    "\n",
    "    # 初始化一个Series来保存每个变量的相关系数大于阈值的变量数量\n",
    "    count_high_corr = pd.Series(0, index=df.columns)\n",
    "\n",
    "    # 遍历相关系数矩阵，统计每个变量的相关系数大于阈值的数量\n",
    "    for col in df.columns:\n",
    "        # 对角线上的值永远是1，排除自身\n",
    "        count_high_corr[col] = (corr_matrix[col] > threshold).sum() - 1\n",
    "\n",
    "    # 创建一个DataFrame来保存统计结果\n",
    "    high_corr_df = pd.DataFrame({\n",
    "        'Variable': count_high_corr.index,\n",
    "        'Count_High_Corr': count_high_corr\n",
    "    }).sort_values('Count_High_Corr', ascending=False)\n",
    "\n",
    "    # 返回结果DataFrame\n",
    "    return high_corr_df \n",
    "\n",
    "\n"
   ]
  },
  {
   "cell_type": "code",
   "execution_count": null,
   "id": "d9495bfe-8a8c-4458-9792-1d236a8492d2",
   "metadata": {},
   "outputs": [],
   "source": [
    "def drop_highly_correlated_features(df, target_feature, threshold=0.9):\n",
    "    \"\"\"\n",
    "    剔除与目标特征相关系数高于阈值的变量。\n",
    "\n",
    "    参数:\n",
    "    df : pandas.DataFrame\n",
    "        要处理的DataFrame。\n",
    "    target_feature : str\n",
    "        目标特征的名称，将基于这个特征的相关系数来剔除其他变量。\n",
    "    threshold : float\n",
    "        相关系数的阈值，超过此阈值的变量将被剔除。\n",
    "    \"\"\"\n",
    "    # 计算与目标特征的相关系数并剔除目标特征自身\n",
    "    corr_with_target = df.corrwith(df[target_feature]).drop(target_feature)\n",
    "\n",
    "    # 找到相关系数高于阈值的变量\n",
    "    high_corr_vars = corr_with_target[corr_with_target > threshold].index.tolist()\n",
    "\n",
    "    # 剔除这些变量\n",
    "    df = df.drop(columns=high_corr_vars)\n",
    "\n",
    "    # 显示被剔除的变量名单\n",
    "    print(f\"与 '{target_feature}' 相关系数高于 {threshold} 的被剔除变量名单：\", high_corr_vars)\n",
    "    \n",
    "    return df"
   ]
  }
 ],
 "metadata": {
  "kernelspec": {
   "display_name": "Python (myenv)",
   "language": "python",
   "name": "myenv"
  },
  "language_info": {
   "codemirror_mode": {
    "name": "ipython",
    "version": 3
   },
   "file_extension": ".py",
   "mimetype": "text/x-python",
   "name": "python",
   "nbconvert_exporter": "python",
   "pygments_lexer": "ipython3",
   "version": "3.9.1"
  }
 },
 "nbformat": 4,
 "nbformat_minor": 5
}
