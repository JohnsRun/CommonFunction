{
 "cells": [
  {
   "cell_type": "code",
   "execution_count": null,
   "id": "aea8935c-180f-461a-8110-8cdbae067a5a",
   "metadata": {},
   "outputs": [],
   "source": []
  },
  {
   "cell_type": "markdown",
   "id": "22a1a005-cced-4523-b07d-48308caa5384",
   "metadata": {},
   "source": [
    "### Create Pyspark Dataframe Quickly"
   ]
  },
  {
   "cell_type": "code",
   "execution_count": null,
   "id": "a9299e34-8467-4d16-8c4a-1ba71a7d2ed7",
   "metadata": {},
   "outputs": [],
   "source": [
    "df1 = spark.createDataFrame([(1, 'A'), (2, 'B')], ['id', 'value'])\n",
    "\n"
   ]
  },
  {
   "cell_type": "code",
   "execution_count": null,
   "id": "293e5f9d-ee9e-45ba-9ebf-c78457d285c6",
   "metadata": {},
   "outputs": [],
   "source": [
    "import pandas as pd\n",
    "from pyspark.sql import SparkSession\n",
    "\n",
    "pdf = pd.DataFrame({'A': [1], 'B': [1]})\n",
    "\n",
    "sdf = spark.createDataFrame(pdf)\n",
    "\n",
    "sdf.show()"
   ]
  },
  {
   "cell_type": "code",
   "execution_count": null,
   "id": "13532089-327b-4fdc-b779-2ed5df34e9b8",
   "metadata": {},
   "outputs": [],
   "source": [
    "import pandas as pd\n",
    "import pyspark\n",
    "data = [[1, 'A'], [2, 'B'], [3, 'C']]\n",
    "pdf = pd.DataFrame(data, columns=['ID', 'Name'])\n",
    "sdf = spark.createDataFrame(pdf)\n",
    "sdf.show()"
   ]
  }
 ],
 "metadata": {
  "kernelspec": {
   "display_name": "Python (myenv)",
   "language": "python",
   "name": "myenv"
  },
  "language_info": {
   "codemirror_mode": {
    "name": "ipython",
    "version": 3
   },
   "file_extension": ".py",
   "mimetype": "text/x-python",
   "name": "python",
   "nbconvert_exporter": "python",
   "pygments_lexer": "ipython3",
   "version": "3.9.1"
  }
 },
 "nbformat": 4,
 "nbformat_minor": 5
}
