{
 "cells": [
  {
   "cell_type": "code",
   "execution_count": null,
   "id": "31ca6561-9a25-425e-92d4-b91d8137413d",
   "metadata": {},
   "outputs": [],
   "source": []
  },
  {
   "cell_type": "markdown",
   "id": "3445ff1a-4334-4ea8-b281-087c796ed6f1",
   "metadata": {},
   "source": [
    "# Feature Selection"
   ]
  },
  {
   "cell_type": "markdown",
   "id": "4f9c481a-9532-49ff-b459-eb2169d90f42",
   "metadata": {},
   "source": [
    "### Recursive Feature Elimination (递归特征消除)"
   ]
  },
  {
   "cell_type": "code",
   "execution_count": null,
   "id": "2972dfc9-8e85-40cd-a6bf-42d208ca297f",
   "metadata": {},
   "outputs": [],
   "source": [
    "from sklearn.feature_selection import RFE\n",
    "from sklearn.linear_model import LinearRegression\n",
    "\n",
    "def rfe_feature_selection(df: pd.DataFrame, target: pd.Series, n_features_to_select: int = 40) -> pd.DataFrame:\n",
    "    \"\"\"\n",
    "    Use Recursive Feature Elimination (RFE) for dimensionality reduction of the data.\n",
    "\n",
    "    Parameters:\n",
    "    df (pd.DataFrame): The DataFrame containing the features.\n",
    "    target (pd.Series): The target variable (y).\n",
    "    n_features_to_select (int): The number of features to select.\n",
    "\n",
    "    Returns:\n",
    "    pd.DataFrame: The DataFrame containing the selected features.\n",
    "    \"\"\"\n",
    "    # Initialize the linear regression model\n",
    "    model = LinearRegression()\n",
    "\n",
    "    # Initialize RFE\n",
    "    rfe = RFE(estimator=model, n_features_to_select=n_features_to_select)\n",
    "\n",
    "    # Fit the RFE model\n",
    "    rfe.fit(df, target)\n",
    "\n",
    "    # Select the features that were chosen\n",
    "    selected_features = df.columns[rfe.support_]\n",
    "\n",
    "    # Return the DataFrame containing the selected features\n",
    "    selected_features_df = df[selected_features]\n",
    "\n",
    "    return selected_features_df\n",
    "\n",
    "# Example usage:\n",
    "# selected_features_df = rfe_feature_selection(df_short_x_scaled, df_short_y_scaled, n_features_to_select=40)\n",
    "# list(selected_features_df)"
   ]
  },
  {
   "cell_type": "markdown",
   "id": "250eca07-4461-4a32-bbb2-ad6848318030",
   "metadata": {},
   "source": [
    "### Mutual Information (互信息法)"
   ]
  },
  {
   "cell_type": "code",
   "execution_count": null,
   "id": "749afa12-129c-45de-bf24-f6a583930ff1",
   "metadata": {},
   "outputs": [],
   "source": [
    "from sklearn.feature_selection import mutual_info_regression\n",
    "import pandas as pd\n",
    "\n",
    "def mutual_info_feature_selection(df: pd.DataFrame, target: pd.Series, n_features_to_select: int = 40) -> pd.DataFrame:\n",
    "    \"\"\"\n",
    "    Select the most important features using mutual information (for regression tasks).\n",
    "\n",
    "    Parameters:\n",
    "    df (pd.DataFrame): The DataFrame containing the features.\n",
    "    target (pd.Series): The target variable (y).\n",
    "    n_features_to_select (int): The number of features to select.\n",
    "\n",
    "    Returns:\n",
    "    pd.DataFrame: The DataFrame containing the selected features.\n",
    "    \"\"\"\n",
    "    # Calculate mutual information scores\n",
    "    mi_scores = mutual_info_regression(df, target)\n",
    "\n",
    "    # Convert scores to a Series and sort them\n",
    "    mi_scores = pd.Series(mi_scores, index=df.columns)\n",
    "    mi_scores_sorted = mi_scores.sort_values(ascending=False)\n",
    "\n",
    "    # Select the top n_features_to_select features\n",
    "    selected_features = mi_scores_sorted.head(n_features_to_select).index\n",
    "\n",
    "    # Return the DataFrame containing the selected features\n",
    "    selected_features_df = df[selected_features]\n",
    "\n",
    "    return selected_features_df\n",
    "\n",
    "# Example usage:\n",
    "# selected_features_df = mutual_info_feature_selection(df_short_x_scaled, df_short_y_scaled, n_features_to_select=40)\n",
    "# list(selected_features_df)"
   ]
  },
  {
   "cell_type": "markdown",
   "id": "135f65f3-e93e-4785-993b-2c64e93260fd",
   "metadata": {},
   "source": [
    "### Dropping Based On Correlation Coefficient\n",
    "\r\n",
    "根据相关系数剔除"
   ]
  },
  {
   "cell_type": "code",
   "execution_count": null,
   "id": "6dd863ba-8a85-4b08-934d-ade8500ba91d",
   "metadata": {},
   "outputs": [],
   "source": [
    "import pandas as pd\n",
    "\n",
    "def analyze_high_correlation(df: pd.DataFrame, threshold: float = 0.9) -> pd.DataFrame:\n",
    "    \"\"\"\n",
    "    Analyze the correlation coefficients between each variable in the DataFrame and identify the number of variables with correlation coefficients higher than the threshold.\n",
    "\n",
    "    Parameters:\n",
    "    df (pd.DataFrame): The DataFrame to analyze.\n",
    "    threshold (float): The threshold for the correlation coefficient.\n",
    "\n",
    "    Returns:\n",
    "    pd.DataFrame: A DataFrame containing the count of variables with correlation coefficients higher than the threshold for each variable.\n",
    "    \"\"\"\n",
    "    # Calculate the correlation matrix and take the absolute value\n",
    "    corr_matrix = df.corr().abs()\n",
    "\n",
    "    # Initialize a Series to store the count of variables with correlation coefficients greater than the threshold for each variable\n",
    "    count_high_corr = pd.Series(0, index=df.columns)\n",
    "\n",
    "    # Iterate over the correlation matrix to count the number of variables with correlation coefficients greater than the threshold for each variable\n",
    "    for col in df.columns:\n",
    "        # Exclude the diagonal values which are always 1 (self-correlation)\n",
    "        count_high_corr[col] = (corr_matrix[col] > threshold).sum() - 1\n",
    "\n",
    "    # Create a DataFrame to store the results\n",
    "    high_corr_df = pd.DataFrame({\n",
    "        'Variable': count_high_corr.index,\n",
    "        'Count_High_Corr': count_high_corr\n",
    "    }).sort_values('Count_High_Corr', ascending=False)\n",
    "\n",
    "    # Return the resulting DataFrame\n",
    "    return high_corr_df"
   ]
  },
  {
   "cell_type": "code",
   "execution_count": null,
   "id": "d9495bfe-8a8c-4458-9792-1d236a8492d2",
   "metadata": {},
   "outputs": [],
   "source": [
    "import pandas as pd\n",
    "\n",
    "def drop_highly_correlated_features(df: pd.DataFrame, target_feature: str, threshold: float = 0.9) -> pd.DataFrame:\n",
    "    \"\"\"\n",
    "    Drop features that have a correlation coefficient higher than the threshold with the target feature.\n",
    "\n",
    "    Parameters:\n",
    "    df (pd.DataFrame): The DataFrame to process.\n",
    "    target_feature (str): The name of the target feature. Other variables will be dropped based on their correlation with this feature.\n",
    "    threshold (float): The threshold for the correlation coefficient. Variables with a correlation coefficient higher than this threshold will be dropped.\n",
    "    \"\"\"\n",
    "    # Calculate the correlation coefficient with the target feature and drop the target feature itself\n",
    "    corr_with_target = df.corrwith(df[target_feature]).drop(target_feature)\n",
    "\n",
    "    # Find variables with a correlation coefficient higher than the threshold\n",
    "    high_corr_vars = corr_with_target[corr_with_target > threshold].index.tolist()\n",
    "\n",
    "    # Drop these variables\n",
    "    df = df.drop(columns=high_corr_vars)\n",
    "\n",
    "    # Display the list of dropped variables\n",
    "    print(f\"Variables with a correlation coefficient higher than {threshold} with '{target_feature}' have been dropped:\", high_corr_vars)\n",
    "    \n",
    "    return df"
   ]
  }
 ],
 "metadata": {
  "kernelspec": {
   "display_name": "Python (myenv)",
   "language": "python",
   "name": "myenv"
  },
  "language_info": {
   "codemirror_mode": {
    "name": "ipython",
    "version": 3
   },
   "file_extension": ".py",
   "mimetype": "text/x-python",
   "name": "python",
   "nbconvert_exporter": "python",
   "pygments_lexer": "ipython3",
   "version": "3.9.1"
  }
 },
 "nbformat": 4,
 "nbformat_minor": 5
}
